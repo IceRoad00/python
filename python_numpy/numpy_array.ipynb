{
 "cells": [
  {
   "cell_type": "markdown",
   "metadata": {},
   "source": [
    "### 넘파이 배열\n",
    "파이썬 리스트의 단점인 원소의 자료형 지정 불가, 많은 메모리 차지의 문제를 해결하고자\n",
    "수치 해석 프로그램에서는 numpy라고 하는 배열 패키지를 사용함.\n",
    "numpy 배열의 경우 자체적 C언어로 구현되어 있어 자료형 지정과 메모리 절약 효과를 볼 수 있음."
   ]
  },
  {
   "cell_type": "markdown",
   "metadata": {},
   "source": [
    "### Numpy import\n",
    "numpy 패키지를 사용하려면 먼저 패키지를 설치해야함.\n",
    "```bash\n",
    "pip install numpy\n",
    "```\n",
    "\n",
    "numpy 패키지를 프로그램에서 사용하려면 import 해야함.\n",
    "``` python\n",
    "import numpy\n",
    "import numpy as np\n",
    "```"
   ]
  },
  {
   "cell_type": "code",
   "execution_count": 69,
   "metadata": {},
   "outputs": [],
   "source": [
    "import numpy as np"
   ]
  },
  {
   "cell_type": "markdown",
   "metadata": {},
   "source": [
    "### 1차원 배열 만들기\n",
    "넘파이의 `array` 함수를 사용하여 리스트를 `ndarray` 타입으로 변경 가능"
   ]
  },
  {
   "cell_type": "code",
   "execution_count": null,
   "metadata": {},
   "outputs": [],
   "source": [
    "ndarray_ = np.array([0,1,2,3,4])\n",
    "ndarray_"
   ]
  },
  {
   "cell_type": "code",
   "execution_count": null,
   "metadata": {},
   "outputs": [],
   "source": [
    "type(ndarray_)"
   ]
  },
  {
   "cell_type": "code",
   "execution_count": null,
   "metadata": {},
   "outputs": [],
   "source": [
    "floats = np.array([1.0,2.0,3.0,4.0])\n",
    "floats"
   ]
  },
  {
   "cell_type": "code",
   "execution_count": null,
   "metadata": {},
   "outputs": [],
   "source": [
    "floats = np.array([0.1,0.2,0.3,0.4])\n",
    "floats"
   ]
  },
  {
   "cell_type": "markdown",
   "metadata": {},
   "source": [
    "파이썬 리스트와는 다르게 numpy 배열의 요소는 모두 같은 타입이어야 함.  \n",
    "이러한 numpy 배열의 특성 때문에 요소에 대한 접근 속도가 빠름"
   ]
  },
  {
   "cell_type": "code",
   "execution_count": null,
   "metadata": {},
   "outputs": [],
   "source": [
    "ndarray_ = np.array([1,1.5,2])\n",
    "ndarray_"
   ]
  },
  {
   "cell_type": "code",
   "execution_count": null,
   "metadata": {},
   "outputs": [],
   "source": [
    "ndarray_ = np.array(['문자열',1,1.5])\n",
    "ndarray_"
   ]
  },
  {
   "cell_type": "markdown",
   "metadata": {},
   "source": [
    "### 벡터화 연산\n",
    "numpy 배열은 각 원소에 대한 반복 연산을 간단한 명령으로 처리할 수 있는 벡터화 연산을 지원\n"
   ]
  },
  {
   "cell_type": "code",
   "execution_count": null,
   "metadata": {},
   "outputs": [],
   "source": [
    "# 각 요소를 2씩 곱하는 연산\n",
    "# 리스트를 사용했을 때\n",
    "numbers = list(range(10))\n",
    "\n",
    "result = []\n",
    "for number in numbers:\n",
    "    result.append(number*2)\n",
    "result"
   ]
  },
  {
   "cell_type": "code",
   "execution_count": null,
   "metadata": {},
   "outputs": [],
   "source": [
    "# numpy array를 사용했을 때\n",
    "numpy_numbers = np.array(numbers)\n",
    "result = 2*numpy_numbers\n",
    "result"
   ]
  },
  {
   "cell_type": "code",
   "execution_count": null,
   "metadata": {},
   "outputs": [],
   "source": [
    "result = 2*numbers\n",
    "result"
   ]
  },
  {
   "cell_type": "markdown",
   "metadata": {},
   "source": [
    "numpy 배열의 벡터화 연산은 모든 종류의 연산에 적용이 가능"
   ]
  },
  {
   "cell_type": "code",
   "execution_count": null,
   "metadata": {},
   "outputs": [],
   "source": [
    "numbers1 = np.array([list(range(5))])\n",
    "numbers2 = np.array([list(range(5,10))])\n",
    "\n",
    "numbers1, numbers2"
   ]
  },
  {
   "cell_type": "code",
   "execution_count": null,
   "metadata": {},
   "outputs": [],
   "source": [
    "result = (numbers1*5) + numbers2\n",
    "result"
   ]
  },
  {
   "cell_type": "code",
   "execution_count": null,
   "metadata": {},
   "outputs": [],
   "source": [
    "result = numbers1 == 3\n",
    "result"
   ]
  },
  {
   "cell_type": "code",
   "execution_count": null,
   "metadata": {},
   "outputs": [],
   "source": [
    "result = (numbers1 >2) & (numbers2 <10)\n",
    "result"
   ]
  },
  {
   "cell_type": "code",
   "execution_count": null,
   "metadata": {},
   "outputs": [],
   "source": [
    "numbers1>2, numbers2<10, result"
   ]
  },
  {
   "cell_type": "markdown",
   "metadata": {},
   "source": [
    "### 2차원 배열\n",
    "2차원 배열을 생성할 때는 요소를 리스트로 가지는 리스트를<br>`array()`의 매개변수로 전달하면 2차원 배월을 생성할 수 있음"
   ]
  },
  {
   "cell_type": "code",
   "execution_count": null,
   "metadata": {},
   "outputs": [],
   "source": [
    "matrix = [\n",
    "    [1,2,3],\n",
    "    [4,5,6],\n",
    "    [7,8,9]\n",
    "]\n",
    "numpy_matrix = np.array(matrix)\n",
    "numpy_matrix"
   ]
  },
  {
   "cell_type": "code",
   "execution_count": null,
   "metadata": {},
   "outputs": [],
   "source": [
    "len(numpy_matrix)"
   ]
  },
  {
   "cell_type": "code",
   "execution_count": null,
   "metadata": {},
   "outputs": [],
   "source": [
    "numpy_matrix[0]"
   ]
  },
  {
   "cell_type": "code",
   "execution_count": null,
   "metadata": {},
   "outputs": [],
   "source": [
    "len(numpy_matrix[0])"
   ]
  },
  {
   "cell_type": "markdown",
   "metadata": {},
   "source": [
    "### 3차원 배열 만들기\n",
    "리스트의 요소로 2차원 형태를 띄는 리스트를 작성하면 3차원 배월로 만들 수 있음."
   ]
  },
  {
   "cell_type": "code",
   "execution_count": null,
   "metadata": {},
   "outputs": [],
   "source": [
    "three_d = [\n",
    "    [\n",
    "        [1,2,3,4],\n",
    "        [5,6,7,8],\n",
    "        [9,10,11,12]\n",
    "    ], \n",
    "    [ \n",
    "        [13,14,15,16],\n",
    "        [17,18,19,20],\n",
    "        [21,22,23,24]\n",
    "    ],\n",
    "    \n",
    "]\n",
    "numpy_three_d = np.array(three_d)\n",
    "numpy_three_d"
   ]
  },
  {
   "cell_type": "markdown",
   "metadata": {},
   "source": [
    "### 배열의 차원과 크기 구하기\n",
    "`ndim` : 배열의 차원을 정수로 반환  \n",
    "`shape` : 배열의 각 차원의 크기를 정수의 튜플로 반환"
   ]
  },
  {
   "cell_type": "code",
   "execution_count": null,
   "metadata": {},
   "outputs": [],
   "source": [
    "numpy_matrix.ndim, numpy_matrix.shape"
   ]
  },
  {
   "cell_type": "code",
   "execution_count": null,
   "metadata": {},
   "outputs": [],
   "source": [
    "numpy_three_d.ndim, numpy_three_d.shape"
   ]
  },
  {
   "cell_type": "markdown",
   "metadata": {},
   "source": [
    "### numpy 배열의 인덱싱\n",
    "일반적으로 `배열변수[인데스]`의 형태로 사용함  \n",
    "다차원 형태일 경우는 일반 리스트와 다르게 `배열변수[인덱스, 인덱스,...]`의 형태로 사용함  \n",
    "일반 2차원 리스트 : `리스트[인덱스][인덱스]`  \n",
    "numpy 2차원 배열 : `배열[인덱스, 인덱스]`"
   ]
  },
  {
   "cell_type": "code",
   "execution_count": null,
   "metadata": {},
   "outputs": [],
   "source": [
    "three_d"
   ]
  },
  {
   "cell_type": "code",
   "execution_count": null,
   "metadata": {},
   "outputs": [],
   "source": [
    "three_d[1][0][3]"
   ]
  },
  {
   "cell_type": "code",
   "execution_count": null,
   "metadata": {},
   "outputs": [],
   "source": [
    "# numpy 3차원 배열\n",
    "numpy_three_d"
   ]
  },
  {
   "cell_type": "code",
   "execution_count": null,
   "metadata": {},
   "outputs": [],
   "source": [
    "numpy_three_d[1,0,3]"
   ]
  },
  {
   "cell_type": "markdown",
   "metadata": {},
   "source": [
    "### numpy 배열 슬라이싱\n",
    "일반 리스트에서 사용하는 배열 슬라이싱 방법, `리스트[시작인덱스:종료인덱스]` 와 동일함  \n",
    "단, 다차원 배열일 경우 인덱스를 여러개 지정할 때 `,`를 써야하는 것에 주의"
   ]
  },
  {
   "cell_type": "code",
   "execution_count": null,
   "metadata": {},
   "outputs": [],
   "source": [
    "numpy_matrix"
   ]
  },
  {
   "cell_type": "code",
   "execution_count": null,
   "metadata": {},
   "outputs": [],
   "source": [
    "numpy_matrix[:]"
   ]
  },
  {
   "cell_type": "code",
   "execution_count": null,
   "metadata": {},
   "outputs": [],
   "source": [
    "numpy_matrix[:2]"
   ]
  },
  {
   "cell_type": "code",
   "execution_count": null,
   "metadata": {},
   "outputs": [],
   "source": [
    "numpy_matrix[0,:2]"
   ]
  },
  {
   "cell_type": "code",
   "execution_count": null,
   "metadata": {},
   "outputs": [],
   "source": [
    "numpy_matrix[:2,0]"
   ]
  },
  {
   "cell_type": "code",
   "execution_count": null,
   "metadata": {},
   "outputs": [],
   "source": [
    "numpy_matrix[1:,1:]"
   ]
  },
  {
   "cell_type": "code",
   "execution_count": null,
   "metadata": {},
   "outputs": [],
   "source": [
    "numpy_three_d[:1,:2,:2]"
   ]
  },
  {
   "cell_type": "code",
   "execution_count": null,
   "metadata": {},
   "outputs": [],
   "source": [
    "m = np.array([[ 0,  1,  2,  3,  4],\n",
    "            [ 5,  6,  7,  8,  9],\n",
    "            [10, 11, 12, 13, 14]])"
   ]
  },
  {
   "cell_type": "code",
   "execution_count": null,
   "metadata": {},
   "outputs": [],
   "source": [
    "# 이 행렬에서 값 7 을 인덱싱한다.\n",
    "m[1,2]"
   ]
  },
  {
   "cell_type": "code",
   "execution_count": null,
   "metadata": {},
   "outputs": [],
   "source": [
    "# 이 행렬에서 값 14 을 인덱싱한다.\n",
    "m[2,4] # m[-1,-1]"
   ]
  },
  {
   "cell_type": "code",
   "execution_count": null,
   "metadata": {},
   "outputs": [],
   "source": [
    "# 이 행렬에서 배열 [6, 7] 을 슬라이싱한다.\n",
    "m[1,1:3]"
   ]
  },
  {
   "cell_type": "code",
   "execution_count": null,
   "metadata": {},
   "outputs": [],
   "source": [
    "# 이 행렬에서 배열 [7, 12] 을 슬라이싱한다.\n",
    "m[1:,2]"
   ]
  },
  {
   "cell_type": "code",
   "execution_count": null,
   "metadata": {},
   "outputs": [],
   "source": [
    "# 이 행렬에서 배열 [[3, 4], [8, 9]] 을 슬라이싱한다.\n",
    "m[:2,3:]"
   ]
  },
  {
   "cell_type": "markdown",
   "metadata": {},
   "source": [
    "### 배열 인덱싱\n",
    "**팬시 인덱싱(fancy indexing)** 이라고 부르는 배열 인덱싱 기법이 존재함  \n",
    "이 배열 인덱싱은 인덱스로 정수 형태나 슬라이스 형태로 인덱스를 전달하는게 아니라  \n",
    "인덱스로 또 다른 넘파이 배열을 전달하여 그에 부합하는 새로운 배열을 반환"
   ]
  },
  {
   "cell_type": "markdown",
   "metadata": {},
   "source": [
    "#### 불리언 배열 인덱싱\n",
    "`True`,`False` 두 형태로만 이루어진 배열을 인덱스로 전달하여 `True`가 위치한 값만 반환하여  \n",
    "새로운 배열을 만드는 인덱싱 기법  \n",
    "불리언 배열 인덱싱 기법은 기존 배열과 인덱스로 전달하는 배열의 크기가 같아야함"
   ]
  },
  {
   "cell_type": "code",
   "execution_count": null,
   "metadata": {},
   "outputs": [],
   "source": [
    "numpy_array = np.array([1, 2, 3, 4, 5, 6, 7, 8])\n",
    "index_array = np.array([True, True, False, False, False, True, True, True])\n",
    "numpy_array[index_array]"
   ]
  },
  {
   "cell_type": "markdown",
   "metadata": {},
   "source": [
    "조건 연산을 통해서도 불리언 인덱싱 처리를 할 수 있음"
   ]
  },
  {
   "cell_type": "code",
   "execution_count": null,
   "metadata": {},
   "outputs": [],
   "source": [
    "numpy_array % 2"
   ]
  },
  {
   "cell_type": "code",
   "execution_count": null,
   "metadata": {},
   "outputs": [],
   "source": [
    "numpy_array % 2 == 0"
   ]
  },
  {
   "cell_type": "code",
   "execution_count": null,
   "metadata": {},
   "outputs": [],
   "source": [
    "numpy_array[numpy_array % 2 == 0]"
   ]
  },
  {
   "cell_type": "markdown",
   "metadata": {},
   "source": [
    "### 정수 배열 인덱싱\n",
    "인덱스 배열의 원소의 값이 기존 넘파이 배열의 원소의 인덱스를 가리키는 정수로 구성된 배열을  \n",
    "인덱스로 전달하여 해당하는 인덱스의 값들로 새로운 배열을 반환하는 기법"
   ]
  },
  {
   "cell_type": "code",
   "execution_count": null,
   "metadata": {},
   "outputs": [],
   "source": [
    "numpy_array"
   ]
  },
  {
   "cell_type": "code",
   "execution_count": null,
   "metadata": {},
   "outputs": [],
   "source": [
    "index_array = np.array([0,2,3])"
   ]
  },
  {
   "cell_type": "code",
   "execution_count": null,
   "metadata": {},
   "outputs": [],
   "source": [
    "numpy_array[index_array]"
   ]
  },
  {
   "cell_type": "markdown",
   "metadata": {},
   "source": [
    "인덱스 배열로 사용되는 정수 배열은 기존 배열의 길이보다 커도 사용 가능  \n",
    "이때, 반환되는 배열의 길이는 인덱스 배열로 전달한 배열의 길이로 결정이 됨  \n",
    "  \n",
    "인덱스 배열로 사용되는 정수 배열의 요소는 기존 배열의 최대 인덱스 범위를 벗어나는 값이 존재할 경우  \n",
    "예외가 발생함"
   ]
  },
  {
   "cell_type": "code",
   "execution_count": null,
   "metadata": {},
   "outputs": [],
   "source": [
    "index_array = np.array([0,2,20])"
   ]
  },
  {
   "cell_type": "code",
   "execution_count": null,
   "metadata": {},
   "outputs": [],
   "source": [
    "numpy_array[index_array]"
   ]
  },
  {
   "cell_type": "markdown",
   "metadata": {},
   "source": [
    "### 다차원 배열에서 배열 인덱싱"
   ]
  },
  {
   "cell_type": "code",
   "execution_count": null,
   "metadata": {},
   "outputs": [],
   "source": [
    "numpy_matrix"
   ]
  },
  {
   "cell_type": "code",
   "execution_count": null,
   "metadata": {},
   "outputs": [],
   "source": [
    "index_array = np.array([True,False,True])\n",
    "numpy_matrix[:2,index_array]"
   ]
  },
  {
   "cell_type": "code",
   "execution_count": null,
   "metadata": {},
   "outputs": [],
   "source": [
    "# 배열 인덱스 값으로 정수 리스트를 전달하면 배열의 순서가 변경됨.\n",
    "numpy_matrix[[2,1,0],:]"
   ]
  },
  {
   "cell_type": "code",
   "execution_count": null,
   "metadata": {},
   "outputs": [],
   "source": [
    "x = np.array([1, 2, 3, 4, 5, 6, 7, 8, 9, 10,\n",
    "             11, 12, 13, 14, 15, 16, 17, 18, 19, 20])"
   ]
  },
  {
   "cell_type": "code",
   "execution_count": null,
   "metadata": {},
   "outputs": [],
   "source": [
    "# 이 배열에서 3의 배수를 찾아라.\n",
    "x[(x % 3 == 0)]"
   ]
  },
  {
   "cell_type": "code",
   "execution_count": null,
   "metadata": {},
   "outputs": [],
   "source": [
    "# 이 배열에서 4로 나누면 1이 남는 수를 찾아라.\n",
    "x[((x % 4 == 1) & (x > 4))]"
   ]
  },
  {
   "cell_type": "code",
   "execution_count": null,
   "metadata": {},
   "outputs": [],
   "source": [
    "# 이 배열에서 3으로 나누면 나누어지고 4로 나누면 1이 남는 수를 찾아라.\n",
    "x[((x % 3 == 0) & (x % 4 == 1))]"
   ]
  },
  {
   "cell_type": "markdown",
   "metadata": {},
   "source": [
    "### numpy 배열의 자료형\n",
    "numpy 배열의 원소는 모두 같은 데이터 타입을 가지고 있음\n",
    "nump 배열의 데이터 타입을 확인하고자 한다면 `dtype` 속성으로 확인이 가능"
   ]
  },
  {
   "cell_type": "code",
   "execution_count": null,
   "metadata": {},
   "outputs": [],
   "source": [
    "numpy_array = np.array([1,2,3])\n",
    "numpy_array.dtype"
   ]
  },
  {
   "cell_type": "code",
   "execution_count": null,
   "metadata": {},
   "outputs": [],
   "source": [
    "numpy_array = np.array([1.0,2,3])\n",
    "numpy_array.dtype"
   ]
  },
  {
   "cell_type": "code",
   "execution_count": null,
   "metadata": {},
   "outputs": [],
   "source": [
    "numpy_array = np.array(['1.0','2','3.0'])\n",
    "numpy_array.dtype"
   ]
  },
  {
   "cell_type": "markdown",
   "metadata": {},
   "source": [
    "`array()` 함수를 사용하여 배열을 생성할 때 명시적으로 데이터 타입을 지정하지 않으면  \n",
    "자동으로 데이터 타입을 추론하여 지정하게 됨  \n",
    "만약 명시적으로 데이터 타입을 지정하고자 한다면 `array()` 함수에 `dtype` 매개변수로  \n",
    "데이터 타입을 지정해주면 됨"
   ]
  },
  {
   "cell_type": "markdown",
   "metadata": {},
   "source": [
    "##### dtype의 접두사\n",
    "b: 불리언, i: 정수, f: 실수, u: 유니코드"
   ]
  },
  {
   "cell_type": "code",
   "execution_count": null,
   "metadata": {},
   "outputs": [],
   "source": [
    "numpy_array = np.array(['1.0','2','3.0'],dtype='f')\n",
    "numpy_array.dtype"
   ]
  },
  {
   "cell_type": "markdown",
   "metadata": {},
   "source": [
    "### numpy에서 Inf와 NaN\n",
    "numpy 배열 연산에서 1을 0으로 나누면 `Inf`, -1을 0으로 나누면 `-Inf`, 0을 0으로 나누면 `NaN`이 반환됨."
   ]
  },
  {
   "cell_type": "markdown",
   "metadata": {},
   "source": [
    "### 배열 생성\n",
    "numpy 배열을 생성하는 방법\n",
    "- `zeros`, `ones`\n",
    "- `zeros_like`, `ones_like`\n",
    "- `empty`\n",
    "- `arange`\n",
    "- `linspace`, `logspace`"
   ]
  },
  {
   "cell_type": "markdown",
   "metadata": {},
   "source": [
    "### zeros\n",
    "크기가 정해져 있고 원소를 0으로 초기화한 배열을 생성하는 함수"
   ]
  },
  {
   "cell_type": "code",
   "execution_count": null,
   "metadata": {},
   "outputs": [],
   "source": [
    "numpy_array = np.zeros(5)\n",
    "numpy_array"
   ]
  },
  {
   "cell_type": "code",
   "execution_count": null,
   "metadata": {},
   "outputs": [],
   "source": [
    "# 매개변수로 정수 튜플을 전달하여 다차원 배열 생성도 가능\n",
    "numpy_array = np.zeros((2, 3))\n",
    "numpy_array"
   ]
  },
  {
   "cell_type": "code",
   "execution_count": null,
   "metadata": {},
   "outputs": [],
   "source": [
    "# dtype 을 명시하여 데이터 타입을 지정할 수 있음\n",
    "numpy_array = np.zeros((2, 3), dtype='i')\n",
    "numpy_array"
   ]
  },
  {
   "cell_type": "markdown",
   "metadata": {},
   "source": [
    "만약, dtype으로 문자열(U)로 지정하게 되었을 때, 문자열의 길이가 초과하면 초과된 부분이 손실됨."
   ]
  },
  {
   "cell_type": "markdown",
   "metadata": {},
   "source": [
    "### ones\n",
    "크기가 정해져있고 원소를 1로 초기화한 배열을 생성하는 함수\n",
    "`zeros` 함수와 사용법이 동일"
   ]
  },
  {
   "cell_type": "code",
   "execution_count": null,
   "metadata": {},
   "outputs": [],
   "source": [
    "ones_array = np.ones((3,2,2),dtype='i')\n",
    "ones_array"
   ]
  },
  {
   "cell_type": "markdown",
   "metadata": {},
   "source": [
    "#### zeros_like, ones_like\n",
    "크기를 직접 지정하지 않고 이미 존재하는 배열의 크기를 본떠서 0 또는 1로 채워진 배열을 생성하는 함수 "
   ]
  },
  {
   "cell_type": "code",
   "execution_count": null,
   "metadata": {},
   "outputs": [],
   "source": [
    "zeors_array = np.zeros_like(ones_array,dtype='f')\n",
    "zeors_array"
   ]
  },
  {
   "cell_type": "markdown",
   "metadata": {},
   "source": [
    "### empty\n",
    "크기만 지정하고 원소의 값은 '쓰레기 데이터' 로 채워진 배열을 생성\n",
    "`zeros`, `ones` 함수를 사용하여 배열을 생성하는 것보다 배열 생성 속도가 빠름"
   ]
  },
  {
   "cell_type": "code",
   "execution_count": null,
   "metadata": {},
   "outputs": [],
   "source": [
    "empty_array = np.empty((10,10))\n",
    "empty_array"
   ]
  },
  {
   "cell_type": "markdown",
   "metadata": {},
   "source": [
    "### arange\n",
    "파이썬의 내장함수 `range()` 함수와 동일한 기능을 하는 numpy 배열 생성 함수"
   ]
  },
  {
   "cell_type": "code",
   "execution_count": null,
   "metadata": {},
   "outputs": [],
   "source": [
    "arange_array = np.arange(10)\n",
    "arange_array"
   ]
  },
  {
   "cell_type": "code",
   "execution_count": null,
   "metadata": {},
   "outputs": [],
   "source": [
    "arange_array = np.arange(10,50)\n",
    "arange_array"
   ]
  },
  {
   "cell_type": "code",
   "execution_count": null,
   "metadata": {},
   "outputs": [],
   "source": [
    "arange_array = np.arange(50,10,-1)\n",
    "arange_array"
   ]
  },
  {
   "cell_type": "markdown",
   "metadata": {},
   "source": [
    "### 전치 연산\n",
    "배열의 행과 열의 위치를 전치시키는 방법, 배열의 `T` 속성으로 반환 받을 수 있음."
   ]
  },
  {
   "cell_type": "code",
   "execution_count": null,
   "metadata": {},
   "outputs": [],
   "source": [
    "numpy_matrix"
   ]
  },
  {
   "cell_type": "code",
   "execution_count": null,
   "metadata": {},
   "outputs": [],
   "source": [
    "numpy_matrix.T"
   ]
  },
  {
   "cell_type": "code",
   "execution_count": null,
   "metadata": {},
   "outputs": [],
   "source": [
    "numpy_three_d"
   ]
  },
  {
   "cell_type": "code",
   "execution_count": null,
   "metadata": {},
   "outputs": [],
   "source": [
    "numpy_three_d.T # 2,3,4 -> 4,3,2"
   ]
  },
  {
   "cell_type": "markdown",
   "metadata": {},
   "source": [
    "### 배열의 크기 변경\n",
    "numpy 배열에서 원소의 개수를 유지한 상태로 배열의 형태를 변경하려 한다면  \n",
    "`reshape` 메서드를 사용하여 변경할 수 있음."
   ]
  },
  {
   "cell_type": "code",
   "execution_count": null,
   "metadata": {},
   "outputs": [],
   "source": [
    "numpy_array = np.zeros(12)\n",
    "numpy_array"
   ]
  },
  {
   "cell_type": "code",
   "execution_count": null,
   "metadata": {},
   "outputs": [],
   "source": [
    "reshape_array = numpy_array.reshape(4,3)\n",
    "reshape_array"
   ]
  },
  {
   "cell_type": "code",
   "execution_count": null,
   "metadata": {},
   "outputs": [],
   "source": [
    "reshape_array = numpy_array.reshape(2,6)\n",
    "reshape_array"
   ]
  },
  {
   "cell_type": "markdown",
   "metadata": {},
   "source": [
    "numpy 배열의 원소는 개수가 정해져 있기 때문에 `reshape` 메서드에  \n",
    "하나의 인자로 -1을 넣게 되면 다른 인자들을 통해서 추론하여 지정한다."
   ]
  },
  {
   "cell_type": "code",
   "execution_count": null,
   "metadata": {},
   "outputs": [],
   "source": [
    "reshape_array = numpy_array.reshape(6,-1)\n",
    "reshape_array"
   ]
  },
  {
   "cell_type": "code",
   "execution_count": null,
   "metadata": {},
   "outputs": [],
   "source": [
    "reshape_array = numpy_array.reshape(3,1,-1)\n",
    "reshape_array"
   ]
  },
  {
   "cell_type": "markdown",
   "metadata": {},
   "source": [
    "만약, `reshape` 메서드 인자들의 곱의 결과가 기존 배열 원소의 총합과 다르면 에러가 발생  \n",
    "-1로 지정한 인자가 있을 때 해당 인자의 곱으로 총합을 계산할 수 업는 경우엔 에러가 발생"
   ]
  },
  {
   "cell_type": "code",
   "execution_count": null,
   "metadata": {},
   "outputs": [],
   "source": [
    "reshape_array = numpy_array.reshape(5,2)\n",
    "reshape_array"
   ]
  },
  {
   "cell_type": "markdown",
   "metadata": {},
   "source": [
    "다차원 배열을 무조건 1차원 배열로 변경하려 한다면 `flatten`이나 `ravel` 메서드를 사용"
   ]
  },
  {
   "cell_type": "code",
   "execution_count": null,
   "metadata": {},
   "outputs": [],
   "source": [
    "numpy_matrix = np.empty((3,4))\n",
    "numpy_matrix"
   ]
  },
  {
   "cell_type": "code",
   "execution_count": null,
   "metadata": {},
   "outputs": [],
   "source": [
    "numpy_array = numpy_matrix.flatten()\n",
    "numpy_array"
   ]
  },
  {
   "cell_type": "code",
   "execution_count": null,
   "metadata": {},
   "outputs": [],
   "source": [
    "numpy_array = numpy_matrix.ravel()\n",
    "numpy_array"
   ]
  },
  {
   "cell_type": "markdown",
   "metadata": {},
   "source": [
    "배열 사용에서 주의할 점은 *길이가 5인 1차원 배열*과 *5x1인 2차원 배열*,*1x5인 2차원 배열*은 서로 각각 다른 배열  \n",
    "(요소의 개수와 내용, 순서가 모두 같더라도 형태가 다르면 다른 배열)"
   ]
  },
  {
   "cell_type": "markdown",
   "metadata": {},
   "source": [
    "차원을 한 차원 증가시키고자 한다면 `numpy.newaxis` 속성으로 차원을 증가시킬 수 있음."
   ]
  },
  {
   "cell_type": "code",
   "execution_count": null,
   "metadata": {},
   "outputs": [],
   "source": [
    "numpy_array"
   ]
  },
  {
   "cell_type": "code",
   "execution_count": null,
   "metadata": {},
   "outputs": [],
   "source": [
    "newaxis_array = numpy_array[np.newaxis]\n",
    "newaxis_array"
   ]
  },
  {
   "cell_type": "markdown",
   "metadata": {},
   "source": [
    "### 배열 연결하기\n",
    "행의 수나 열의 수가 같은 두 개 이상의 배열을 연결하는 방법  \n",
    "- `hstack` : 행의 수가 같은 두 개 이상의 배열을 연결  \n",
    "- `vstack` : 열의 수가 같은 두 개 이상의 배열을 연결\n",
    "- `dstack` : 행과 열의 수가 같은 두 개 이상의 배열을 연결\n",
    "- `stack` :  `dstack` 확장 기능으로 행과 열의 수가 같은 두 개 이상의 배열을 연결.  \n",
    "             (단, 연결 축을 개발자가 직접 지정)\n",
    "- `r_` : 배열의 요소를 연결, 메서드인자를 `[]`에 전달함.\n",
    "- `c_` : 행끼리 연결, 최소 2차원의 배열로 연결\n",
    "- `tile` : 하나의 배열을 여러번 반복하여 연결"
   ]
  },
  {
   "cell_type": "code",
   "execution_count": null,
   "metadata": {},
   "outputs": [],
   "source": [
    "zeros_array = np.zeros((3,4))\n",
    "zeros_array"
   ]
  },
  {
   "cell_type": "code",
   "execution_count": null,
   "metadata": {},
   "outputs": [],
   "source": [
    "ones_array = np.ones((3,2))\n",
    "ones_array"
   ]
  },
  {
   "cell_type": "code",
   "execution_count": null,
   "metadata": {},
   "outputs": [],
   "source": [
    "hstack_array = np.hstack([zeros_array, ones_array])\n",
    "hstack_array"
   ]
  },
  {
   "cell_type": "code",
   "execution_count": null,
   "metadata": {},
   "outputs": [],
   "source": [
    "zeros_array = np.zeros((3,4))\n",
    "zeros_array"
   ]
  },
  {
   "cell_type": "code",
   "execution_count": null,
   "metadata": {},
   "outputs": [],
   "source": [
    "ones_array = np.ones((2,4))\n",
    "ones_array"
   ]
  },
  {
   "cell_type": "code",
   "execution_count": null,
   "metadata": {},
   "outputs": [],
   "source": [
    "vstack_array = np.vstack([zeros_array, ones_array])\n",
    "vstack_array"
   ]
  },
  {
   "cell_type": "code",
   "execution_count": null,
   "metadata": {},
   "outputs": [],
   "source": [
    "zeros_array = np.zeros((3,3))\n",
    "zeros_array"
   ]
  },
  {
   "cell_type": "code",
   "execution_count": null,
   "metadata": {},
   "outputs": [],
   "source": [
    "ones_array = np.ones((3,3))\n",
    "ones_array"
   ]
  },
  {
   "cell_type": "code",
   "execution_count": null,
   "metadata": {},
   "outputs": [],
   "source": [
    "dstack_array = np.dstack([zeros_array, ones_array])\n",
    "dstack_array"
   ]
  },
  {
   "cell_type": "code",
   "execution_count": null,
   "metadata": {},
   "outputs": [],
   "source": [
    "stack_array = np.stack([zeros_array, ones_array])\n",
    "stack_array"
   ]
  },
  {
   "cell_type": "code",
   "execution_count": null,
   "metadata": {},
   "outputs": [],
   "source": [
    "r_array = np.r_[zeros_array, ones_array]\n",
    "r_array"
   ]
  },
  {
   "cell_type": "code",
   "execution_count": null,
   "metadata": {},
   "outputs": [],
   "source": [
    "c_array = np.c_[zeros_array, ones_array]\n",
    "c_array"
   ]
  },
  {
   "cell_type": "code",
   "execution_count": null,
   "metadata": {},
   "outputs": [],
   "source": [
    "tile_array = np.tile(zeros_array,2)\n",
    "tile_array"
   ]
  },
  {
   "cell_type": "code",
   "execution_count": null,
   "metadata": {},
   "outputs": [],
   "source": [
    "tile_array = np.tile(zeros_array,(3,2))\n",
    "tile_array"
   ]
  },
  {
   "cell_type": "code",
   "execution_count": null,
   "metadata": {},
   "outputs": [],
   "source": [
    "zero_array = np.zeros((3,3))\n",
    "one_array = np.ones((3,2))\n",
    "hstack_array = np.hstack([zero_array, one_array])"
   ]
  },
  {
   "cell_type": "code",
   "execution_count": null,
   "metadata": {},
   "outputs": [],
   "source": [
    "arange_array = np.arange(10, 160, 10)\n",
    "reshape_array = arange_array.reshape(3,5)\n",
    "\n",
    "vstack1_array = np.vstack([hstack_array,reshape_array])"
   ]
  },
  {
   "cell_type": "code",
   "execution_count": null,
   "metadata": {},
   "outputs": [],
   "source": [
    "tile_array = np.tile(vstack1_array,(2,1))\n",
    "tile_array"
   ]
  },
  {
   "cell_type": "markdown",
   "metadata": {},
   "source": [
    "### 2차원 그리드 포인트 생성\n",
    "좌표값의 쌍(그리드 포인트)을 생성하는 메서드 `meshgrid` 함수로 x축과 y축의 점들로  \n",
    "사각형의 영역을 나타내는 조합을 생성"
   ]
  },
  {
   "cell_type": "code",
   "execution_count": null,
   "metadata": {},
   "outputs": [],
   "source": [
    "x = np.arange(3)\n",
    "x"
   ]
  },
  {
   "cell_type": "code",
   "execution_count": null,
   "metadata": {},
   "outputs": [],
   "source": [
    "y = np.arange(5)\n",
    "y"
   ]
  },
  {
   "cell_type": "code",
   "execution_count": null,
   "metadata": {},
   "outputs": [],
   "source": [
    "X, Y = np.meshgrid(x, y)"
   ]
  },
  {
   "cell_type": "code",
   "execution_count": null,
   "metadata": {},
   "outputs": [],
   "source": [
    "[list(zip(x,y)) for x, y in zip(X,Y)]"
   ]
  },
  {
   "cell_type": "markdown",
   "metadata": {},
   "source": [
    "### 벡터화 연산\n",
    "numpy 배열은 반복문을 쓰지않고 배열에 대하여 벡터 연산을 할 수 있음."
   ]
  },
  {
   "cell_type": "code",
   "execution_count": null,
   "metadata": {},
   "outputs": [],
   "source": [
    "x = np.arange(1,10001)\n",
    "y = np.arange(10001,20001)"
   ]
  },
  {
   "cell_type": "code",
   "execution_count": null,
   "metadata": {},
   "outputs": [],
   "source": [
    "%%time\n",
    "z = np.zeros_like(x)\n",
    "for index in range(len(x)):\n",
    "    z[index] = x[index] + y[index]\n",
    "\n"
   ]
  },
  {
   "cell_type": "code",
   "execution_count": null,
   "metadata": {},
   "outputs": [],
   "source": [
    "%%time\n",
    "z=x+y"
   ]
  },
  {
   "cell_type": "code",
   "execution_count": null,
   "metadata": {},
   "outputs": [],
   "source": [
    "x = np.arange(5)\n",
    "y = np.arange(10, 15)\n",
    "z = np.arange(5)"
   ]
  },
  {
   "cell_type": "code",
   "execution_count": null,
   "metadata": {},
   "outputs": [],
   "source": [
    "np.all(x == z)"
   ]
  },
  {
   "cell_type": "code",
   "execution_count": null,
   "metadata": {},
   "outputs": [],
   "source": [
    "x"
   ]
  },
  {
   "cell_type": "code",
   "execution_count": null,
   "metadata": {},
   "outputs": [],
   "source": [
    "x * 10"
   ]
  },
  {
   "cell_type": "code",
   "execution_count": null,
   "metadata": {},
   "outputs": [],
   "source": [
    "10 ** x"
   ]
  },
  {
   "cell_type": "markdown",
   "metadata": {},
   "source": [
    "### 브로드캐스팅\n",
    "차원이 서로 다른 배열을 연사하는 기능, 부족한 차원에 대하여 반복 확장하여  \n",
    "큰 배열의 크기에 맞춘 후 연산을 진행"
   ]
  },
  {
   "cell_type": "code",
   "execution_count": null,
   "metadata": {},
   "outputs": [],
   "source": [
    "x = np.arange(5)\n",
    "x"
   ]
  },
  {
   "cell_type": "code",
   "execution_count": null,
   "metadata": {},
   "outputs": [],
   "source": [
    "x+1"
   ]
  },
  {
   "cell_type": "code",
   "execution_count": null,
   "metadata": {},
   "outputs": [],
   "source": [
    "x = np.arange(15)\n",
    "x = x.reshape(3,5)\n",
    "x"
   ]
  },
  {
   "cell_type": "code",
   "execution_count": null,
   "metadata": {},
   "outputs": [],
   "source": [
    "y = np.arange(5)\n",
    "y"
   ]
  },
  {
   "cell_type": "code",
   "execution_count": null,
   "metadata": {},
   "outputs": [],
   "source": [
    "x + y"
   ]
  },
  {
   "cell_type": "code",
   "execution_count": null,
   "metadata": {},
   "outputs": [],
   "source": [
    "y = np.arange(3)\n",
    "y = y.reshape(3,1)\n",
    "y"
   ]
  },
  {
   "cell_type": "code",
   "execution_count": null,
   "metadata": {},
   "outputs": [],
   "source": [
    "x+y"
   ]
  },
  {
   "cell_type": "markdown",
   "metadata": {},
   "source": [
    "### 차원 축소 연산\n",
    "배열의 하나의 행을 하나의 집합으로 보고 그 집합에 대한 집계 처리 결과로  \n",
    "새로운 값을 반환하여 배열을 생성"
   ]
  },
  {
   "cell_type": "code",
   "execution_count": null,
   "metadata": {},
   "outputs": [],
   "source": [
    "x = np.arange(10)\n",
    "x = x.reshape(2,5)\n",
    "x"
   ]
  },
  {
   "cell_type": "code",
   "execution_count": null,
   "metadata": {},
   "outputs": [],
   "source": [
    "x.max()"
   ]
  },
  {
   "cell_type": "code",
   "execution_count": null,
   "metadata": {},
   "outputs": [],
   "source": [
    "x.min()"
   ]
  },
  {
   "cell_type": "code",
   "execution_count": null,
   "metadata": {},
   "outputs": [],
   "source": [
    "x.mean()"
   ]
  },
  {
   "cell_type": "code",
   "execution_count": null,
   "metadata": {},
   "outputs": [],
   "source": [
    "x.sum(axis=1)"
   ]
  },
  {
   "cell_type": "markdown",
   "metadata": {},
   "source": [
    "### 정렬\n",
    "- `sort` 메서드로 배열을 정렬 할 수 있음  \n",
    "- `axis` 매개변수로 정렬 기준을 정할 수 있음  \n",
    "- `axis=0`: 행을 따로 분리하여 정렬  \n",
    "- `axis=1`: 열을 따로 분리하여 정렬  \n",
    "`axis`를 지정하지 않으면 가장 나중 차원을 기준으로 정렬"
   ]
  },
  {
   "cell_type": "code",
   "execution_count": null,
   "metadata": {},
   "outputs": [],
   "source": [
    "x = np.array(\n",
    "    [[5,2,7,4],\n",
    "    [11,8,6,5],\n",
    "    [8,5,11,2]]\n",
    ")\n",
    "x"
   ]
  },
  {
   "cell_type": "code",
   "execution_count": null,
   "metadata": {},
   "outputs": [],
   "source": [
    "x.sort()\n",
    "x"
   ]
  },
  {
   "cell_type": "code",
   "execution_count": null,
   "metadata": {},
   "outputs": [],
   "source": [
    "x.sort(axis=0)\n",
    "x"
   ]
  },
  {
   "cell_type": "code",
   "execution_count": null,
   "metadata": {},
   "outputs": [],
   "source": [
    "x.sort(axis=1)\n",
    "x"
   ]
  },
  {
   "cell_type": "code",
   "execution_count": null,
   "metadata": {},
   "outputs": [],
   "source": [
    "np.argsort(x)"
   ]
  },
  {
   "cell_type": "code",
   "execution_count": null,
   "metadata": {},
   "outputs": [],
   "source": [
    "[5,11,12],\n",
    "[0,18,22],\n",
    "[8,2,7]\n",
    "\n",
    "x = np.array(\n",
    "    [[5,11,12],\n",
    "    [0,18,22],\n",
    "    [8,2,7]\n",
    "])\n",
    "x"
   ]
  },
  {
   "cell_type": "code",
   "execution_count": null,
   "metadata": {},
   "outputs": [],
   "source": [
    "x.max()"
   ]
  },
  {
   "cell_type": "code",
   "execution_count": null,
   "metadata": {},
   "outputs": [],
   "source": [
    "x.sum(axis=1)"
   ]
  },
  {
   "cell_type": "code",
   "execution_count": null,
   "metadata": {},
   "outputs": [],
   "source": [
    "x.max(axis=1)"
   ]
  },
  {
   "cell_type": "code",
   "execution_count": null,
   "metadata": {},
   "outputs": [],
   "source": [
    "x.mean(axis=0)"
   ]
  },
  {
   "cell_type": "code",
   "execution_count": null,
   "metadata": {},
   "outputs": [],
   "source": [
    "x.min(axis=0)"
   ]
  },
  {
   "cell_type": "markdown",
   "metadata": {},
   "source": [
    "### Numpy 배열 통계 연산\n",
    "- 데이터 개수 구하기 : `len()` 내장 함수\n",
    "- 표본 평균 : `mean` 메서드\n",
    "- 표본 분산 : `var()` 메서드\n",
    "- 표본 표준편차 : `std()` 메서드\n",
    "- 최대, 최소 : `max()`, `min()` 메서드\n",
    "- 중앙값 : `median()` 메서드\n",
    "- 사분위수 : `percentile()` 메서드"
   ]
  },
  {
   "cell_type": "code",
   "execution_count": null,
   "metadata": {},
   "outputs": [],
   "source": [
    "samples = np.array([9,2,4,20,24,2,23,92,24,-23])\n",
    "samples"
   ]
  },
  {
   "cell_type": "code",
   "execution_count": null,
   "metadata": {},
   "outputs": [],
   "source": [
    "sample_volume = len(samples)\n",
    "sample_volume"
   ]
  },
  {
   "cell_type": "code",
   "execution_count": null,
   "metadata": {},
   "outputs": [],
   "source": [
    "sample_mean = samples.mean()\n",
    "sample_mean"
   ]
  },
  {
   "cell_type": "code",
   "execution_count": null,
   "metadata": {},
   "outputs": [],
   "source": [
    "sample_mean = np.mean(samples)\n",
    "sample_mean"
   ]
  },
  {
   "cell_type": "code",
   "execution_count": null,
   "metadata": {},
   "outputs": [],
   "source": [
    "sample_variance = samples.var()\n",
    "sample_variance"
   ]
  },
  {
   "cell_type": "code",
   "execution_count": null,
   "metadata": {},
   "outputs": [],
   "source": [
    "sample_variance = np.var(samples)\n",
    "sample_variance"
   ]
  },
  {
   "cell_type": "code",
   "execution_count": 17,
   "metadata": {},
   "outputs": [
    {
     "data": {
      "text/plain": [
       "28.365648238670662"
      ]
     },
     "execution_count": 17,
     "metadata": {},
     "output_type": "execute_result"
    }
   ],
   "source": [
    "sample_standard = samples.std()\n",
    "sample_standard"
   ]
  },
  {
   "cell_type": "code",
   "execution_count": 21,
   "metadata": {},
   "outputs": [
    {
     "data": {
      "text/plain": [
       "28.365648238670662"
      ]
     },
     "execution_count": 21,
     "metadata": {},
     "output_type": "execute_result"
    }
   ],
   "source": [
    "sample_standard = np.std(samples)\n",
    "sample_standard"
   ]
  },
  {
   "cell_type": "code",
   "execution_count": 23,
   "metadata": {},
   "outputs": [
    {
     "data": {
      "text/plain": [
       "92"
      ]
     },
     "execution_count": 23,
     "metadata": {},
     "output_type": "execute_result"
    }
   ],
   "source": [
    "samples_max = samples.max()\n",
    "samples_max"
   ]
  },
  {
   "cell_type": "code",
   "execution_count": 25,
   "metadata": {},
   "outputs": [
    {
     "data": {
      "text/plain": [
       "-23"
      ]
     },
     "execution_count": 25,
     "metadata": {},
     "output_type": "execute_result"
    }
   ],
   "source": [
    "samples_min = samples.min()\n",
    "samples_min"
   ]
  },
  {
   "cell_type": "code",
   "execution_count": 29,
   "metadata": {},
   "outputs": [
    {
     "data": {
      "text/plain": [
       "14.5"
      ]
     },
     "execution_count": 29,
     "metadata": {},
     "output_type": "execute_result"
    }
   ],
   "source": [
    "samples_median = np.median(samples)\n",
    "samples_median"
   ]
  },
  {
   "cell_type": "code",
   "execution_count": 32,
   "metadata": {},
   "outputs": [
    {
     "data": {
      "text/plain": [
       "-23.0"
      ]
     },
     "execution_count": 32,
     "metadata": {},
     "output_type": "execute_result"
    }
   ],
   "source": [
    "sample_0per = np.percentile(samples,0)\n",
    "sample_0per"
   ]
  },
  {
   "cell_type": "code",
   "execution_count": 34,
   "metadata": {},
   "outputs": [
    {
     "data": {
      "text/plain": [
       "2.5"
      ]
     },
     "execution_count": 34,
     "metadata": {},
     "output_type": "execute_result"
    }
   ],
   "source": [
    "sample_25per = np.percentile(samples,25)\n",
    "sample_25per"
   ]
  },
  {
   "cell_type": "code",
   "execution_count": 36,
   "metadata": {},
   "outputs": [
    {
     "data": {
      "text/plain": [
       "14.5"
      ]
     },
     "execution_count": 36,
     "metadata": {},
     "output_type": "execute_result"
    }
   ],
   "source": [
    "sample_50per = np.percentile(samples,50)\n",
    "sample_50per"
   ]
  },
  {
   "cell_type": "code",
   "execution_count": 38,
   "metadata": {},
   "outputs": [
    {
     "data": {
      "text/plain": [
       "23.75"
      ]
     },
     "execution_count": 38,
     "metadata": {},
     "output_type": "execute_result"
    }
   ],
   "source": [
    "sample_75per = np.percentile(samples,75)\n",
    "sample_75per"
   ]
  },
  {
   "cell_type": "code",
   "execution_count": 39,
   "metadata": {},
   "outputs": [
    {
     "data": {
      "text/plain": [
       "92.0"
      ]
     },
     "execution_count": 39,
     "metadata": {},
     "output_type": "execute_result"
    }
   ],
   "source": [
    "sample_100per = np.percentile(samples,100)\n",
    "sample_100per"
   ]
  },
  {
   "cell_type": "markdown",
   "metadata": {},
   "source": [
    "### 난수 생성에 필요한 시드 설정\n",
    "numpy 패키지에 있는 `seed()` 메서드에 매개변수로 난수 생성 시 필요한 시드를 설정함."
   ]
  },
  {
   "cell_type": "code",
   "execution_count": 66,
   "metadata": {},
   "outputs": [],
   "source": [
    "np.random.seed(10)"
   ]
  },
  {
   "cell_type": "code",
   "execution_count": 49,
   "metadata": {},
   "outputs": [
    {
     "data": {
      "text/plain": [
       "array([0.77132064, 0.02075195, 0.63364823, 0.74880388, 0.49850701,\n",
       "       0.22479665, 0.19806286, 0.76053071, 0.16911084, 0.08833981])"
      ]
     },
     "execution_count": 49,
     "metadata": {},
     "output_type": "execute_result"
    }
   ],
   "source": [
    "random_array = np.random.rand(10)\n",
    "random_array"
   ]
  },
  {
   "cell_type": "markdown",
   "metadata": {},
   "source": [
    "### 데이터 순서 임의로 바꾸기\n",
    "numpy 패키지의 random 하위 패키지의 `shuffle()` 메서드로 배열을 임의 순서로 변경 가능(자체 변환)"
   ]
  },
  {
   "cell_type": "code",
   "execution_count": 67,
   "metadata": {},
   "outputs": [
    {
     "data": {
      "text/plain": [
       "array([0, 1, 2, 3, 4, 5, 6, 7, 8, 9])"
      ]
     },
     "execution_count": 67,
     "metadata": {},
     "output_type": "execute_result"
    }
   ],
   "source": [
    "range_array = np.arange(10)\n",
    "range_array"
   ]
  },
  {
   "cell_type": "code",
   "execution_count": 68,
   "metadata": {},
   "outputs": [
    {
     "data": {
      "text/plain": [
       "array([8, 2, 5, 6, 3, 1, 0, 7, 4, 9])"
      ]
     },
     "execution_count": 68,
     "metadata": {},
     "output_type": "execute_result"
    }
   ],
   "source": [
    "np.random.shuffle(range_array)\n",
    "range_array"
   ]
  },
  {
   "cell_type": "markdown",
   "metadata": {},
   "source": [
    "### 데이터 샘플링\n",
    "모집단 배열에 표본으로 사용할 표본 집단 배열을 무작위로 선택하는 방법  \n",
    "numpy 패키지의 random 하위패키지의 `choice(모집단배열, 표본크기, 중복선택여부,  \n",
    " 각 요소의 선택확률)` 메서드로 사용가능"
   ]
  },
  {
   "cell_type": "code",
   "execution_count": 70,
   "metadata": {},
   "outputs": [
    {
     "data": {
      "text/plain": [
       "array([0, 1, 2, 3, 4, 5, 6, 7, 8, 9])"
      ]
     },
     "execution_count": 70,
     "metadata": {},
     "output_type": "execute_result"
    }
   ],
   "source": [
    "population_array = np.arange(10)\n",
    "population_array"
   ]
  },
  {
   "cell_type": "code",
   "execution_count": 94,
   "metadata": {},
   "outputs": [
    {
     "data": {
      "text/plain": [
       "array([5, 1, 7, ..., 4, 6, 5])"
      ]
     },
     "execution_count": 94,
     "metadata": {},
     "output_type": "execute_result"
    }
   ],
   "source": [
    "probability_array = [0.1,0.05,0.05,0,0.15,0.25,0.1,0.05,0.05,0.2]\n",
    "sample_array = np.random.choice(population_array, 10000, p=probability_array)\n",
    "sample_array"
   ]
  },
  {
   "cell_type": "markdown",
   "metadata": {},
   "source": [
    "### 난수 배열 생성\n",
    "- `rand()` : 0과 1 사이의 균일 분포를 따르는 난수 배열 생성\n",
    "- `randn()` : 표준 정규 분포를 따르는 난수 배열 생성\n",
    "- `randint(low, high=정수, size=정수 혹은 튜플)` : 지정한 범위 정수의 균일분포를 따르는 난수 배열 생성"
   ]
  },
  {
   "cell_type": "code",
   "execution_count": 82,
   "metadata": {},
   "outputs": [
    {
     "data": {
      "text/plain": [
       "array([0.87740478, 0.38559555, 0.52463761, 0.31002708, 0.06428103,\n",
       "       0.29177199, 0.07001156, 0.36607868, 0.43857591, 0.89077166])"
      ]
     },
     "execution_count": 82,
     "metadata": {},
     "output_type": "execute_result"
    }
   ],
   "source": [
    "rand_array = np.random.rand(10)\n",
    "rand_array\n"
   ]
  },
  {
   "cell_type": "code",
   "execution_count": 84,
   "metadata": {},
   "outputs": [
    {
     "data": {
      "text/plain": [
       "array([-0.02841818,  0.40587482,  0.56902841, -0.99170997, -0.11761782,\n",
       "        0.77991959, -1.12338202, -0.03925393,  1.37842968,  0.0636804 ])"
      ]
     },
     "execution_count": 84,
     "metadata": {},
     "output_type": "execute_result"
    }
   ],
   "source": [
    "randn_array = np.random.randn(10)\n",
    "randn_array"
   ]
  },
  {
   "cell_type": "code",
   "execution_count": 87,
   "metadata": {},
   "outputs": [
    {
     "data": {
      "text/plain": [
       "5"
      ]
     },
     "execution_count": 87,
     "metadata": {},
     "output_type": "execute_result"
    }
   ],
   "source": [
    "randomint_array = np.random.randint(10)\n",
    "randomint_array"
   ]
  },
  {
   "cell_type": "code",
   "execution_count": 91,
   "metadata": {},
   "outputs": [
    {
     "data": {
      "text/plain": [
       "array([14, 14, 16, 17, 18, 11, 13, 18, 17, 12])"
      ]
     },
     "execution_count": 91,
     "metadata": {},
     "output_type": "execute_result"
    }
   ],
   "source": [
    "randomint_array = np.random.randint(10,high=20,size=10)\n",
    "randomint_array"
   ]
  },
  {
   "cell_type": "code",
   "execution_count": 93,
   "metadata": {},
   "outputs": [
    {
     "data": {
      "text/plain": [
       "array([[18, 14, 17, 15, 15],\n",
       "       [19, 10, 12, 19, 17],\n",
       "       [17, 15, 16, 17, 15]])"
      ]
     },
     "execution_count": 93,
     "metadata": {},
     "output_type": "execute_result"
    }
   ],
   "source": [
    "randomint_array = np.random.randint(10,high=20,size=(3,5))\n",
    "randomint_array"
   ]
  },
  {
   "cell_type": "markdown",
   "metadata": {},
   "source": [
    "### 정수 데이터 카운팅\n",
    "배열의 요소가 정수이면 `unique()` 메서드나 `bincount()` 메서드로 간단하게 분석할 수 있음"
   ]
  },
  {
   "cell_type": "code",
   "execution_count": 97,
   "metadata": {},
   "outputs": [
    {
     "data": {
      "text/plain": [
       "array([0, 1, 2, 4, 5, 6, 7, 8, 9])"
      ]
     },
     "execution_count": 97,
     "metadata": {},
     "output_type": "execute_result"
    }
   ],
   "source": [
    "analysis_array = np.unique(sample_array)\n",
    "analysis_array"
   ]
  },
  {
   "cell_type": "code",
   "execution_count": 99,
   "metadata": {},
   "outputs": [
    {
     "data": {
      "text/plain": [
       "(array([0, 1, 2, 4, 5, 6, 7, 8, 9]),\n",
       " array([1000,  481,  457, 1565, 2520,  992,  475,  478, 2032], dtype=int64))"
      ]
     },
     "execution_count": 99,
     "metadata": {},
     "output_type": "execute_result"
    }
   ],
   "source": [
    "analysis_array = np.unique(sample_array,return_counts=True)\n",
    "analysis_array"
   ]
  },
  {
   "cell_type": "code",
   "execution_count": 100,
   "metadata": {},
   "outputs": [
    {
     "data": {
      "text/plain": [
       "array([1000,  481,  457,    0, 1565, 2520,  992,  475,  478, 2032],\n",
       "      dtype=int64)"
      ]
     },
     "execution_count": 100,
     "metadata": {},
     "output_type": "execute_result"
    }
   ],
   "source": [
    "analysis_array = np.bincount(sample_array,minlength=10)\n",
    "analysis_array"
   ]
  },
  {
   "cell_type": "code",
   "execution_count": 117,
   "metadata": {},
   "outputs": [
    {
     "data": {
      "text/plain": [
       "array([1, 1, 1, 1, 1, 0, 1, 1, 0, 1])"
      ]
     },
     "execution_count": 117,
     "metadata": {},
     "output_type": "execute_result"
    }
   ],
   "source": [
    "coin_array = np.random.randint(0,high=2,size=10)\n",
    "coin_array"
   ]
  },
  {
   "cell_type": "code",
   "execution_count": 151,
   "metadata": {},
   "outputs": [
    {
     "data": {
      "text/plain": [
       "3.56"
      ]
     },
     "execution_count": 151,
     "metadata": {},
     "output_type": "execute_result"
    }
   ],
   "source": [
    "dice_array = np.random.randint(1,high=7,size=100)\n",
    "dice_array = np.mean(dice_array)\n",
    "dice_array"
   ]
  },
  {
   "cell_type": "code",
   "execution_count": null,
   "metadata": {},
   "outputs": [],
   "source": [
    "price = 10000\n",
    "price_array = np.random.randn(250)\n",
    "for price in price_array(250):\n",
    "    price = price-(price*price_array)\n",
    "    print(price)"
   ]
  },
  {
   "cell_type": "code",
   "execution_count": 174,
   "metadata": {},
   "outputs": [
    {
     "data": {
      "text/plain": [
       "array([10055, 10034, 10163, 10284, 10276, 10366, 10421, 10424, 10484,\n",
       "       10513, 10713, 10738, 10693, 10683, 10795, 10742, 10843, 10778,\n",
       "       10804, 10886, 10975, 10906, 10749, 10672, 10540, 10547, 10635,\n",
       "       10750, 10747, 10694, 10706, 10843, 11015, 11014, 11002, 10829,\n",
       "       10887, 11067, 11040, 10997, 11037, 11081, 11114, 10960, 10963,\n",
       "       10892, 11047, 11125, 11136, 11156, 11168, 11195, 11215, 11431,\n",
       "       11278, 11226, 11193, 11101, 11009, 10896, 11068, 11129, 11064,\n",
       "       11051, 10990, 10906, 10920, 10837, 11013, 10944, 11022, 10836,\n",
       "       10698, 10783, 10765, 10583, 10644, 10604, 10717, 10692, 10829,\n",
       "       10720, 10566, 10464, 10597, 10614, 10636, 10669, 10476, 10624,\n",
       "       10540, 10418, 10420, 10257, 10506, 10553, 10517, 10401, 10448,\n",
       "       10361, 10527, 10490, 10652, 10632, 10588, 10752, 10883, 10725,\n",
       "       10686, 10755, 10593, 10663, 10801, 10771, 10980, 11087, 11035,\n",
       "       11092, 10948, 10820, 10775, 10864, 10787, 10804, 10737, 10646,\n",
       "       10525, 10441, 10462, 10249, 10124, 10174, 10155, 10282, 10273,\n",
       "       10580, 10635, 10684, 10899, 11005, 10926, 10903, 10999, 10959,\n",
       "       10987, 10921, 10842, 10800, 10777, 10627, 10733, 10733, 10509,\n",
       "       10488, 10577, 10677, 10591, 10571, 10665, 10710, 10812, 10783,\n",
       "       10775, 10749, 10692, 10633, 10559, 10585, 10601, 10776, 10947,\n",
       "       10864, 10973, 10946, 10956, 10803, 10934, 10971, 10980, 10870,\n",
       "       10955, 10898, 10964, 10869, 10855, 11019, 11084, 11032, 10864,\n",
       "       10847, 10867, 10838, 10856, 10767, 10906, 11137, 11123, 11340,\n",
       "       11273, 11283, 11522, 11561, 11584, 11795, 11777, 11637, 11599,\n",
       "       11652, 11650, 11547, 11650, 11916, 11779, 11823, 11851, 11804,\n",
       "       11741, 11635, 11706, 11815, 11878, 11973, 11784, 11977, 11684,\n",
       "       11790, 11702, 11509, 11556, 11465, 11429, 11382, 11470, 11683,\n",
       "       11611, 11468, 11518, 11533, 11575, 11633, 11823, 11944, 11780,\n",
       "       11665, 11693, 11962, 11853, 11876, 11927, 11908])"
      ]
     },
     "execution_count": 174,
     "metadata": {},
     "output_type": "execute_result"
    }
   ],
   "source": [
    "price = 10000\n",
    "variation_ranges = (np.random.randn(250)/100)+1\n",
    "stock_prices = []\n",
    "\n",
    "for ratio in variation_ranges:\n",
    "    price = round(price * round(ratio,4))\n",
    "    stock_prices.append(price)\n",
    "\n",
    "stock_prices_array = np.array(stock_prices)\n",
    "stock_prices_array"
   ]
  }
 ],
 "metadata": {
  "kernelspec": {
   "display_name": "Python 3",
   "language": "python",
   "name": "python3"
  },
  "language_info": {
   "codemirror_mode": {
    "name": "ipython",
    "version": 3
   },
   "file_extension": ".py",
   "mimetype": "text/x-python",
   "name": "python",
   "nbconvert_exporter": "python",
   "pygments_lexer": "ipython3",
   "version": "3.12.2"
  }
 },
 "nbformat": 4,
 "nbformat_minor": 2
}
