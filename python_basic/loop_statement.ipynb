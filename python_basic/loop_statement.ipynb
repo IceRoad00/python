{
 "cells": [
  {
   "cell_type": "code",
   "execution_count": 1,
   "metadata": {},
   "outputs": [],
   "source": [
    "# 반복문\n",
    "# for 반복문 : 반복할 횟수가 정해져있는 반복작업에서 사용\n",
    "# for 변수 in range(반복횟수):\n",
    "#   반복할 실행문"
   ]
  },
  {
   "cell_type": "code",
   "execution_count": 12,
   "metadata": {},
   "outputs": [
    {
     "name": "stdout",
     "output_type": "stream",
     "text": [
      "range(0, 5)\n",
      "0\n",
      "2\n",
      "4\n",
      "5\n",
      "6\n",
      "7\n",
      "8\n",
      "9\n",
      "5\n",
      "8\n",
      "10\n",
      "9\n",
      "8\n",
      "7\n",
      "6\n",
      "5\n",
      "4\n",
      "3\n",
      "2\n",
      "1\n",
      "0\n"
     ]
    }
   ],
   "source": [
    "# for (int index = 0; index < 5; index++){} - x 조건을 검사해서 부합하면 진행, 부합하지 않으면 멈춤\n",
    "\n",
    "# int[] array = {0, 1, 2, 3, 4};\n",
    "# for (int index: array){} - o 안에 요소에 대해 접근해서 사용\n",
    "\n",
    "# range(정수) : 0부터 정수-1까지의 정수 리스트 생성\n",
    "# range(시작 정수, 종료 정수) : 시작 정수부터 종료 정수 -1까지의 정수 리스트 생성\n",
    "# range(시작 정수, 종료 정수, 차이) : 시작 정수부터 종료 정수 -1 까지의 정수 리스트를 생성하는데 \n",
    "# 차이 정수 만큼의 차이를 가지며 변경됨\n",
    "\n",
    "print(range(5))\n",
    "for index in [0, 2, 4]:\n",
    "    print(index)\n",
    "\n",
    "for index in range(5, 10):\n",
    "    print(index)\n",
    "\n",
    "for index in range(5, 10, 3):\n",
    "    print(index)\n",
    "\n",
    "for index in range(10, -1, -1):\n",
    "    print(index)"
   ]
  },
  {
   "cell_type": "code",
   "execution_count": 20,
   "metadata": {},
   "outputs": [
    {
     "name": "stdout",
     "output_type": "stream",
     "text": [
      "*\n",
      "**\n",
      "***\n",
      "****\n",
      "*****\n",
      "******\n",
      "*******\n",
      "********\n",
      "*********\n",
      "**********\n",
      "*********\n",
      "********\n",
      "*******\n",
      "******\n",
      "*****\n",
      "****\n",
      "***\n",
      "**\n",
      "*\n"
     ]
    }
   ],
   "source": [
    "for index in range (1, 11, 1):\n",
    "    print('*' * index)\n",
    "\n",
    "for index in range (9, 0, -1):\n",
    "    print('*' * index)"
   ]
  },
  {
   "cell_type": "code",
   "execution_count": 26,
   "metadata": {},
   "outputs": [
    {
     "name": "stdout",
     "output_type": "stream",
     "text": [
      "*\n",
      "**\n",
      "***\n",
      "****\n",
      "*****\n",
      "******\n",
      "*******\n",
      "********\n",
      "*********\n",
      "**********\n"
     ]
    }
   ],
   "source": [
    "for count in range(1, 11):\n",
    "    print('*' * count)"
   ]
  },
  {
   "cell_type": "code",
   "execution_count": 32,
   "metadata": {},
   "outputs": [
    {
     "name": "stdout",
     "output_type": "stream",
     "text": [
      "**********\n",
      "*********\n",
      "********\n",
      "*******\n",
      "******\n",
      "*****\n",
      "****\n",
      "***\n",
      "**\n",
      "*\n"
     ]
    }
   ],
   "source": [
    "for count in range(10, 0, -1):\n",
    "    print('*' * count)"
   ]
  },
  {
   "cell_type": "code",
   "execution_count": 39,
   "metadata": {},
   "outputs": [
    {
     "name": "stdout",
     "output_type": "stream",
     "text": [
      "*\n",
      "**\n",
      "***\n",
      "****\n",
      "*****\n",
      "******\n",
      "*******\n",
      "********\n",
      "*********\n",
      "**********\n",
      "*********\n",
      "********\n",
      "*******\n",
      "******\n",
      "*****\n",
      "****\n",
      "***\n",
      "**\n",
      "*\n"
     ]
    }
   ],
   "source": [
    "for count in range(1, 20):\n",
    "    if count <= 10:\n",
    "        print('*' * count)\n",
    "    else:\n",
    "        print('*' * (20 - count))    "
   ]
  },
  {
   "cell_type": "code",
   "execution_count": 43,
   "metadata": {},
   "outputs": [
    {
     "name": "stdout",
     "output_type": "stream",
     "text": [
      "*\n",
      "**\n",
      "***\n",
      "****\n",
      "*****\n",
      "******\n",
      "*******\n",
      "********\n",
      "*********\n",
      "**********\n",
      "***********\n"
     ]
    }
   ],
   "source": [
    "for count in range(1, 12):\n",
    "    if (count % 2 != 0) < 12:\n",
    "        print('*' * count)\n",
    "    else:\n",
    "        print('*' * (20 - count))  "
   ]
  },
  {
   "cell_type": "code",
   "execution_count": 57,
   "metadata": {},
   "outputs": [
    {
     "name": "stdout",
     "output_type": "stream",
     "text": [
      "     *\n",
      "    ***\n",
      "   *****\n",
      "  *******\n",
      " *********\n",
      "***********\n",
      " *********\n",
      "  *******\n",
      "   *****\n",
      "    ***\n",
      "     *\n"
     ]
    }
   ],
   "source": [
    "for count in range(1, 12):\n",
    "    if count <= 6:\n",
    "        print(\" \" * (6 - count) + '*' * (count * 2 -1))\n",
    "    else:\n",
    "        print(\" \" * (count - 6) + '*' * ((12 - count) * 2 - 1))"
   ]
  },
  {
   "cell_type": "code",
   "execution_count": 58,
   "metadata": {},
   "outputs": [],
   "source": [
    "# 0 1 2 3\n",
    "# 1 2 3 4\n",
    "# 2 3 4 5\n",
    "# 3 4 5 6"
   ]
  },
  {
   "cell_type": "code",
   "execution_count": 60,
   "metadata": {},
   "outputs": [
    {
     "name": "stdout",
     "output_type": "stream",
     "text": [
      "0 1 2 3 \n",
      "1 2 3 4 \n",
      "2 3 4 5 \n",
      "3 4 5 6 \n"
     ]
    }
   ],
   "source": [
    "for a in range(4):\n",
    "    for b in range(4):\n",
    "        print (a + b, end = \" \")\n",
    "    print(\"\")"
   ]
  },
  {
   "cell_type": "code",
   "execution_count": 66,
   "metadata": {},
   "outputs": [
    {
     "name": "stdout",
     "output_type": "stream",
     "text": [
      "0 1 2 3 \n",
      "1 2 3 4 \n",
      "2 3 4 5 \n",
      "3 4 5 6 \n"
     ]
    }
   ],
   "source": [
    "for start in range(4):\n",
    "    for value in range(start, start + 4):\n",
    "        print (value, end = \" \")\n",
    "    print (\"\")"
   ]
  },
  {
   "cell_type": "code",
   "execution_count": 72,
   "metadata": {},
   "outputs": [
    {
     "name": "stdout",
     "output_type": "stream",
     "text": [
      "1 3\n",
      "2 2\n",
      "2 6\n",
      "3 1\n",
      "3 5\n",
      "4 4\n",
      "5 3\n",
      "6 2\n",
      "6 6\n"
     ]
    }
   ],
   "source": [
    "for a in range (1, 7):\n",
    "    for b in range (1, 7):\n",
    "        if (a + b) % 4 == 0:\n",
    "           print(f\"{a} {b}\")"
   ]
  },
  {
   "cell_type": "code",
   "execution_count": 119,
   "metadata": {},
   "outputs": [
    {
     "name": "stdout",
     "output_type": "stream",
     "text": [
      "1024 0 0 0\n",
      "1024 0 0 0\n",
      "1024 0 0 0\n",
      "1024 0 0 0\n",
      "1024 0 0 0\n",
      "1024 0 0 0\n",
      "1024 0 0 0\n",
      "1024 0 0 0\n",
      "1024 0 0 0\n",
      "1024 0 0 0\n",
      "1024 0 0 0\n",
      "1024 0 0 0\n",
      "1024 0 0 0\n",
      "1024 0 0 0\n",
      "1024 0 0 0\n",
      "1024 0 0 0\n",
      "1024 0 0 0\n",
      "1024 0 0 0\n",
      "1024 0 0 0\n",
      "1024 0 0 0\n",
      "1024 0 0 0\n",
      "1024 0 0 0\n",
      "1024 0 0 0\n",
      "1024 0 0 0\n",
      "1024 0 0 0\n",
      "1024 0 0 0\n",
      "1024 0 0 0\n"
     ]
    }
   ],
   "source": [
    "for a in range(3):\n",
    "    if a == '앞면':\n",
    "        day_2 = day_1 * 2\n",
    "    else:\n",
    "        day_2 = day_1 % 2\n",
    "        \n",
    "        for b in range(3):\n",
    "            if b == '앞면':\n",
    "                day_3 = day_2 * 2\n",
    "            else:\n",
    "                day_3 = day_2 % 2\n",
    "\n",
    "                for c in range(3):\n",
    "                    if c == '앞면':\n",
    "                        day_4 = day_3 * 2\n",
    "                    else:\n",
    "                        day_4 = day_3 % 2\n",
    "                        print(f'{day_1} {day_2} {day_3} {day_4}')\n"
   ]
  },
  {
   "cell_type": "code",
   "execution_count": 121,
   "metadata": {},
   "outputs": [
    {
     "name": "stdout",
     "output_type": "stream",
     "text": [
      "64.0\n",
      "256.0\n",
      "256.0\n",
      "1024.0\n",
      "256.0\n",
      "1024.0\n",
      "1024.0\n",
      "4096.0\n",
      "256.0\n",
      "1024.0\n",
      "1024.0\n",
      "4096.0\n",
      "1024.0\n",
      "4096.0\n",
      "4096.0\n",
      "16384\n"
     ]
    }
   ],
   "source": [
    "for day1 in range(2):\n",
    "    for day2 in range(2):\n",
    "        for day3 in range(2):\n",
    "            for day4 in range(2):\n",
    "             print(1024 * 2**(2*day1 -1) * 2**(2*day2 -1) * 2**(2*day3 -1) * 2**(2*day4 -1))\n"
   ]
  },
  {
   "cell_type": "code",
   "execution_count": 124,
   "metadata": {},
   "outputs": [
    {
     "name": "stdout",
     "output_type": "stream",
     "text": [
      "1\n",
      "3\n",
      "6\n",
      "10\n",
      "15\n",
      "21\n",
      "28\n",
      "36\n",
      "45\n",
      "55\n"
     ]
    }
   ],
   "source": [
    "for count in range (1, 11):\n",
    "    sum = 0\n",
    "    for value in range(count + 1):\n",
    "        sum += value\n",
    "    print(sum)"
   ]
  },
  {
   "cell_type": "code",
   "execution_count": 138,
   "metadata": {},
   "outputs": [
    {
     "name": "stdout",
     "output_type": "stream",
     "text": [
      "220\n"
     ]
    }
   ],
   "source": [
    "sum = 0\n",
    "for count in range(1, 11):\n",
    "    for value in range(count + 1):\n",
    "        sum += value\n",
    "print(sum)"
   ]
  }
 ],
 "metadata": {
  "kernelspec": {
   "display_name": "Python 3",
   "language": "python",
   "name": "python3"
  },
  "language_info": {
   "codemirror_mode": {
    "name": "ipython",
    "version": 3
   },
   "file_extension": ".py",
   "mimetype": "text/x-python",
   "name": "python",
   "nbconvert_exporter": "python",
   "pygments_lexer": "ipython3",
   "version": "3.12.2"
  }
 },
 "nbformat": 4,
 "nbformat_minor": 2
}
